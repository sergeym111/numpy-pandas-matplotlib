{
 "cells": [
  {
   "cell_type": "code",
   "execution_count": 1,
   "id": "b93d3ee6",
   "metadata": {},
   "outputs": [],
   "source": [
    "# 001_задание"
   ]
  },
  {
   "cell_type": "code",
   "execution_count": 2,
   "id": "69af4580",
   "metadata": {},
   "outputs": [],
   "source": [
    "import numpy as np"
   ]
  },
  {
   "cell_type": "code",
   "execution_count": 3,
   "id": "1abb940c",
   "metadata": {},
   "outputs": [],
   "source": [
    "my_array = [[1, 6],\n",
    "           [2, 8],\n",
    "           [3, 11],\n",
    "           [3, 10],\n",
    "           [1, 7]]"
   ]
  },
  {
   "cell_type": "code",
   "execution_count": 9,
   "id": "dedc097e",
   "metadata": {},
   "outputs": [
    {
     "data": {
      "text/plain": [
       "array([[ 1,  6],\n",
       "       [ 2,  8],\n",
       "       [ 3, 11],\n",
       "       [ 3, 10],\n",
       "       [ 1,  7]])"
      ]
     },
     "execution_count": 9,
     "metadata": {},
     "output_type": "execute_result"
    }
   ],
   "source": [
    "a = np.array(my_array)\n",
    "a"
   ]
  },
  {
   "cell_type": "code",
   "execution_count": 10,
   "id": "70084539",
   "metadata": {},
   "outputs": [
    {
     "data": {
      "text/plain": [
       "array([2. , 8.4])"
      ]
     },
     "execution_count": 10,
     "metadata": {},
     "output_type": "execute_result"
    }
   ],
   "source": [
    "mean_a = np.mean(my_ndarray, axis=0)\n",
    "mean_a"
   ]
  },
  {
   "cell_type": "code",
   "execution_count": null,
   "id": "9a9bbec1",
   "metadata": {},
   "outputs": [],
   "source": [
    "# 002_задание "
   ]
  },
  {
   "cell_type": "code",
   "execution_count": 19,
   "id": "6bf88efd",
   "metadata": {},
   "outputs": [
    {
     "data": {
      "text/plain": [
       "array([[-1. , -2.4],\n",
       "       [ 0. , -0.4],\n",
       "       [ 1. ,  2.6],\n",
       "       [ 1. ,  1.6],\n",
       "       [-1. , -1.4]])"
      ]
     },
     "execution_count": 19,
     "metadata": {},
     "output_type": "execute_result"
    }
   ],
   "source": [
    "a_centered = a - mean_a\n",
    "a_centered "
   ]
  },
  {
   "cell_type": "code",
   "execution_count": 20,
   "id": "12293e22",
   "metadata": {},
   "outputs": [],
   "source": [
    "# 003_задание"
   ]
  },
  {
   "cell_type": "code",
   "execution_count": 28,
   "id": "ef8f1de0",
   "metadata": {},
   "outputs": [
    {
     "data": {
      "text/plain": [
       "array([-1.,  0.,  1.,  1., -1.])"
      ]
     },
     "execution_count": 28,
     "metadata": {},
     "output_type": "execute_result"
    }
   ],
   "source": [
    "a_centered[:, 0]"
   ]
  },
  {
   "cell_type": "code",
   "execution_count": 29,
   "id": "fd9aa87f",
   "metadata": {},
   "outputs": [
    {
     "data": {
      "text/plain": [
       "8.0"
      ]
     },
     "execution_count": 29,
     "metadata": {},
     "output_type": "execute_result"
    }
   ],
   "source": [
    "a_centered_sp = a_centered[:, 0].dot(a_centered[:, 1])\n",
    "a_centered_sp"
   ]
  },
  {
   "cell_type": "code",
   "execution_count": 31,
   "id": "e417f61e",
   "metadata": {},
   "outputs": [
    {
     "data": {
      "text/plain": [
       "(5, 2)"
      ]
     },
     "execution_count": 31,
     "metadata": {},
     "output_type": "execute_result"
    }
   ],
   "source": [
    "a_centered.shape"
   ]
  },
  {
   "cell_type": "code",
   "execution_count": 33,
   "id": "a8078870",
   "metadata": {},
   "outputs": [
    {
     "data": {
      "text/plain": [
       "2.0"
      ]
     },
     "execution_count": 33,
     "metadata": {},
     "output_type": "execute_result"
    }
   ],
   "source": [
    "a_centered_sp / (a_centered.shape[0] - 1)"
   ]
  },
  {
   "cell_type": "code",
   "execution_count": null,
   "id": "cfc13049",
   "metadata": {},
   "outputs": [],
   "source": []
  }
 ],
 "metadata": {
  "kernelspec": {
   "display_name": "Python 3",
   "language": "python",
   "name": "python3"
  },
  "language_info": {
   "codemirror_mode": {
    "name": "ipython",
    "version": 3
   },
   "file_extension": ".py",
   "mimetype": "text/x-python",
   "name": "python",
   "nbconvert_exporter": "python",
   "pygments_lexer": "ipython3",
   "version": "3.8.6"
  }
 },
 "nbformat": 4,
 "nbformat_minor": 5
}
